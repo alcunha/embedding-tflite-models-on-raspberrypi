{
  "nbformat": 4,
  "nbformat_minor": 0,
  "metadata": {
    "kernelspec": {
      "display_name": "Python 3",
      "language": "python",
      "name": "python3"
    },
    "language_info": {
      "codemirror_mode": {
        "name": "ipython",
        "version": 3
      },
      "file_extension": ".py",
      "mimetype": "text/x-python",
      "name": "python",
      "nbconvert_exporter": "python",
      "pygments_lexer": "ipython3",
      "version": "3.8.5"
    },
    "colab": {
      "name": "Embedding-Models-with-TFLite.ipynb",
      "provenance": []
    },
    "accelerator": "GPU"
  },
  "cells": [
    {
      "cell_type": "code",
      "metadata": {
        "id": "SIZfQ5exbWI0"
      },
      "source": [
        "# MIT License\n",
        "#\n",
        "# Copyright (c) 2021 Fagner Cunha\n",
        "#\n",
        "# Permission is hereby granted, free of charge, to any person obtaining a\n",
        "# copy of this software and associated documentation files (the \"Software\"),\n",
        "# to deal in the Software without restriction, including without limitation\n",
        "# the rights to use, copy, modify, merge, publish, distribute, sublicense,\n",
        "# and/or sell copies of the Software, and to permit persons to whom the\n",
        "# Software is furnished to do so, subject to the following conditions:\n",
        "#\n",
        "# The above copyright notice and this permission notice shall be included in\n",
        "# all copies or substantial portions of the Software.\n",
        "#\n",
        "# THE SOFTWARE IS PROVIDED \"AS IS\", WITHOUT WARRANTY OF ANY KIND, EXPRESS OR\n",
        "# IMPLIED, INCLUDING BUT NOT LIMITED TO THE WARRANTIES OF MERCHANTABILITY,\n",
        "# FITNESS FOR A PARTICULAR PURPOSE AND NONINFRINGEMENT. IN NO EVENT SHALL\n",
        "# THE AUTHORS OR COPYRIGHT HOLDERS BE LIABLE FOR ANY CLAIM, DAMAGES OR OTHER\n",
        "# LIABILITY, WHETHER IN AN ACTION OF CONTRACT, TORT OR OTHERWISE, ARISING\n",
        "# FROM, OUT OF OR IN CONNECTION WITH THE SOFTWARE OR THE USE OR OTHER\n",
        "# DEALINGS IN THE SOFTWARE."
      ],
      "execution_count": null,
      "outputs": []
    },
    {
      "cell_type": "markdown",
      "metadata": {
        "id": "EiOR-STtbWI8"
      },
      "source": [
        "# Embarcando modelos com TensorFlow Lite\n",
        "\n",
        "<table align=\"left\">\n",
        "  <td>\n",
        "    <a href=\"https://colab.research.google.com/github/alcunha/embedding-tflite-models-on-raspberrypi/blob/master/Embedding-Models-with-TFLite.ipynb\"><img src=\"https://github.com/alcunha/embedding-tflite-models-on-raspberrypi/blob/master/images/colab_logo_32px.png?raw=1\" />Executar no Google Colab</a>\n",
        "  </td>\n",
        "  <td>\n",
        "    <a href=\"https://github.com/alcunha/embedding-tflite-models-on-raspberrypi/blob/master/Embedding-Models-with-TFLite.ipynb\"><img src=\"https://github.com/alcunha/embedding-tflite-models-on-raspberrypi/blob/master/images/GitHub-Mark-32px.png?raw=1\" />Ver código no GitHub</a>\n",
        "  </td>\n",
        "</table>"
      ]
    },
    {
      "cell_type": "code",
      "metadata": {
        "id": "edcHj5dzbWI_"
      },
      "source": [
        "! pip install tensorflow matplotlib scikit-learn numpy pillow"
      ],
      "execution_count": null,
      "outputs": []
    },
    {
      "cell_type": "code",
      "metadata": {
        "id": "y_x6PmosbWJB"
      },
      "source": [
        "import os, logging\n",
        "\n",
        "import glob\n",
        "import tensorflow as tf\n",
        "import numpy as np\n",
        "import matplotlib.pyplot as plt\n",
        "\n",
        "from sklearn.metrics import accuracy_score\n",
        "from tensorflow import keras\n",
        "from tensorflow.keras.layers import GlobalAveragePooling2D, Dense\n",
        "from tensorflow.keras.models import Model\n",
        "from tensorflow.keras.applications import MobileNetV2\n",
        "\n",
        "# Disable warnings\n",
        "os.environ[\"TF_CPP_MIN_LOG_LEVEL\"] = \"3\"\n",
        "logging.getLogger(\"tensorflow\").setLevel(logging.CRITICAL)\n",
        "logging.getLogger(\"tensorflow_hub\").setLevel(logging.CRITICAL)\n",
        "\n",
        "AUTOTUNE = tf.data.experimental.AUTOTUNE"
      ],
      "execution_count": 1,
      "outputs": []
    },
    {
      "cell_type": "markdown",
      "metadata": {
        "id": "K2Wj33hzbWJD"
      },
      "source": [
        "## TensorFlow Lite\n",
        "\n",
        "O TensorFlow Lite é um framework multiplataforma para realizar inferência de maneira eficiente em dispositivos com recursos computacionais limitados como smartphones e dispositivos embarcados.\n",
        "\n",
        "Para isso, os modelos pré-treinados precisam ser convertidos num formato especial compactado utilizando-se o TensorFlow Lite Converter e executar a inferência do modelo no dispotivo utilizando o Interpretador do TensorFlow Lite. Durante o processo de conversão também podem ser realizadas otimizações para reduzir tanto o tamanho quanto a latência do modelo."
      ]
    },
    {
      "cell_type": "markdown",
      "metadata": {
        "id": "AuD11ZUpbWJE"
      },
      "source": [
        "## Exemplo Prático: Conversão de um modelo de visão computacional para inferência em uma Raspberry Pi\n",
        "\n",
        "1. Carregamento do modelo\n",
        "2. Conversão para o formato do TFLite\n",
        "3. Instalação dos pacotes na Raspberry Pi\n",
        "4. Implementação do código para inferência na Raspberry Pi\n",
        "5. Benchmarking dos modelos\n",
        "6. Otimização dos modelos durante a conversão"
      ]
    },
    {
      "cell_type": "markdown",
      "metadata": {
        "id": "Gu7E6pjUbWJF"
      },
      "source": [
        "#### Carregamento do dataset\n",
        "\n",
        "Será utilizado um subconjunto de 2 mil imagens do dataset Cats vs Dogs [1]"
      ]
    },
    {
      "cell_type": "code",
      "metadata": {
        "id": "mty01DkLbWJG",
        "outputId": "62cf7acb-008d-4782-d1be-897b43a22411",
        "colab": {
          "base_uri": "https://localhost:8080/"
        }
      },
      "source": [
        "CATS_DOGS_URL = 'https://storage.googleapis.com/mledu-datasets/cats_and_dogs_filtered.zip'\n",
        "\n",
        "zip_path = keras.utils.get_file('cats_and_dogs.zip', origin=CATS_DOGS_URL, extract=True)\n",
        "dataset_path = os.path.join(os.path.dirname(zip_path), 'cats_and_dogs_filtered')\n",
        "train_path = os.path.join(dataset_path, 'train')\n",
        "validation_path = os.path.join(dataset_path, 'validation')"
      ],
      "execution_count": 2,
      "outputs": [
        {
          "output_type": "stream",
          "name": "stdout",
          "text": [
            "Downloading data from https://storage.googleapis.com/mledu-datasets/cats_and_dogs_filtered.zip\n",
            "68608000/68606236 [==============================] - 1s 0us/step\n",
            "68616192/68606236 [==============================] - 1s 0us/step\n"
          ]
        }
      ]
    },
    {
      "cell_type": "code",
      "metadata": {
        "id": "Csg1BdcCbWJH"
      },
      "source": [
        "INPUT_SIZE = 224\n",
        "BATCH_SIZE = 1\n",
        "classes = ['cats', 'dogs']"
      ],
      "execution_count": 3,
      "outputs": []
    },
    {
      "cell_type": "markdown",
      "metadata": {
        "id": "yvc1EKAxbWJI"
      },
      "source": [
        "#### Preparação do pipeline de dados"
      ]
    },
    {
      "cell_type": "code",
      "metadata": {
        "id": "8lvaaYe7bWJJ"
      },
      "source": [
        "def string_to_one_hot(label):\n",
        "    one_hot = tf.stack([tf.equal(label, s) for s in classes], axis=-1)\n",
        "    one_hot = tf.cast(one_hot, tf.float32)\n",
        "    \n",
        "    return one_hot"
      ],
      "execution_count": 4,
      "outputs": []
    },
    {
      "cell_type": "code",
      "metadata": {
        "id": "5fJtnm1ubWJK"
      },
      "source": [
        "def get_label_from_filename(filename):\n",
        "    label = tf.strings.split(filename, os.path.sep)[-2]\n",
        "    label = string_to_one_hot(label)\n",
        "    \n",
        "    return filename, label"
      ],
      "execution_count": 5,
      "outputs": []
    },
    {
      "cell_type": "code",
      "metadata": {
        "id": "l1ZyDxaybWJL"
      },
      "source": [
        "def load_and_preprocess_image(filename, label):\n",
        "    image = tf.io.read_file(filename)\n",
        "    image = tf.io.decode_jpeg(image, channels=3)\n",
        "    image = tf.image.convert_image_dtype(image, dtype=tf.float32)\n",
        "    image = tf.image.resize(image, size=(INPUT_SIZE, INPUT_SIZE))\n",
        "    \n",
        "    return image, label"
      ],
      "execution_count": 6,
      "outputs": []
    },
    {
      "cell_type": "code",
      "metadata": {
        "id": "qnWDJ8idbWJL"
      },
      "source": [
        "dataset = tf.data.Dataset.list_files(str(validation_path+'/*/*'), shuffle=True)\n",
        "dataset = dataset.map(get_label_from_filename, num_parallel_calls=AUTOTUNE)\n",
        "dataset = dataset.map(load_and_preprocess_image, num_parallel_calls=AUTOTUNE)\n",
        "dataset = dataset.prefetch(buffer_size=AUTOTUNE)\n",
        "dataset = dataset.batch(BATCH_SIZE)"
      ],
      "execution_count": 7,
      "outputs": []
    },
    {
      "cell_type": "code",
      "metadata": {
        "id": "CTqx4sBHbWJM",
        "outputId": "85fa9bf2-2652-474d-af31-1f96b178edc4",
        "colab": {
          "base_uri": "https://localhost:8080/",
          "height": 304
        }
      },
      "source": [
        "image, label = next(iter(dataset))\n",
        "print(\"Classe: %s\" % classes[tf.argmax(label[0])])\n",
        "plt.imshow(image[0])"
      ],
      "execution_count": 8,
      "outputs": [
        {
          "output_type": "stream",
          "name": "stdout",
          "text": [
            "Classe: cats\n"
          ]
        },
        {
          "output_type": "execute_result",
          "data": {
            "text/plain": [
              "<matplotlib.image.AxesImage at 0x7fac83523e50>"
            ]
          },
          "metadata": {},
          "execution_count": 8
        },
        {
          "output_type": "display_data",
          "data": {
            "image/png": "[encoded data removed]",
            "text/plain": [
              "<Figure size 432x288 with 1 Axes>"
            ]
          },
          "metadata": {
            "needs_background": "light"
          }
        }
      ]
    },
    {
      "cell_type": "markdown",
      "metadata": {
        "id": "G3NiLBVtbWJP"
      },
      "source": [
        "#### Carregamento do modelo treinado\n",
        "\n",
        "A acurácia do modelo na base de validação é de 98.60%."
      ]
    },
    {
      "cell_type": "code",
      "metadata": {
        "id": "8EK1VzlLbWJP",
        "outputId": "434614f7-35ed-4233-da60-afed6cb45a58",
        "colab": {
          "base_uri": "https://localhost:8080/"
        }
      },
      "source": [
        "base_model = MobileNetV2(input_shape=(INPUT_SIZE,INPUT_SIZE,3), weights='imagenet', include_top=False)\n",
        "x = GlobalAveragePooling2D()(base_model.output)\n",
        "output = Dense(len(classes), activation='softmax')(x)\n",
        "model = Model(inputs=[base_model.input], outputs=[output])"
      ],
      "execution_count": 9,
      "outputs": [
        {
          "output_type": "stream",
          "name": "stdout",
          "text": [
            "Downloading data from https://storage.googleapis.com/tensorflow/keras-applications/mobilenet_v2/mobilenet_v2_weights_tf_dim_ordering_tf_kernels_1.0_224_no_top.h5\n",
            "9412608/9406464 [==============================] - 0s 0us/step\n",
            "9420800/9406464 [==============================] - 0s 0us/step\n"
          ]
        }
      ]
    },
    {
      "cell_type": "markdown",
      "metadata": {
        "id": "ZGaRC0k7bWJR"
      },
      "source": [
        "Os pesos do modelo pré-treinados podem ser baixados pelo [link](https://drive.google.com/file/d/1zNcy41ZVe4VgDTGYeOw0iGVqYAofhBK7/view?usp=sharing)."
      ]
    },
    {
      "cell_type": "code",
      "metadata": {
        "id": "vWXE0MzJbWJS"
      },
      "source": [
        "model.load_weights('mobilenetv2_cats_and_dogs_08jan.h5')"
      ],
      "execution_count": 10,
      "outputs": []
    },
    {
      "cell_type": "markdown",
      "metadata": {
        "id": "LKCxY89BbWJT"
      },
      "source": [
        "A compilação do modelo é necessária para utilizar a função evaluate para avaliar o modelo:"
      ]
    },
    {
      "cell_type": "code",
      "metadata": {
        "id": "uLac3jcpbWJT"
      },
      "source": [
        "model.compile(optimizer='adam',\n",
        "              loss='categorical_crossentropy',\n",
        "              metrics=['accuracy'])"
      ],
      "execution_count": 11,
      "outputs": []
    },
    {
      "cell_type": "code",
      "metadata": {
        "id": "2BJXfv70bWJT",
        "outputId": "6187a910-cd70-4dcf-bbf9-5db7dedab6a9",
        "colab": {
          "base_uri": "https://localhost:8080/"
        }
      },
      "source": [
        "model.evaluate(dataset, batch_size=BATCH_SIZE)"
      ],
      "execution_count": 12,
      "outputs": [
        {
          "output_type": "stream",
          "name": "stdout",
          "text": [
            "1000/1000 [==============================] - 42s 41ms/step - loss: 0.0413 - accuracy: 0.9860\n"
          ]
        },
        {
          "output_type": "execute_result",
          "data": {
            "text/plain": [
              "[0.041331201791763306, 0.9860000014305115]"
            ]
          },
          "metadata": {},
          "execution_count": 12
        }
      ]
    },
    {
      "cell_type": "code",
      "metadata": {
        "id": "s1qYW8IpbWJU",
        "outputId": "71f882c9-cda8-4d1e-d03c-8b593a0b0193",
        "colab": {
          "base_uri": "https://localhost:8080/"
        }
      },
      "source": [
        "model.metrics_names"
      ],
      "execution_count": 13,
      "outputs": [
        {
          "output_type": "execute_result",
          "data": {
            "text/plain": [
              "['loss', 'accuracy']"
            ]
          },
          "metadata": {},
          "execution_count": 13
        }
      ]
    },
    {
      "cell_type": "markdown",
      "metadata": {
        "id": "UKhWyCIEbWJV"
      },
      "source": [
        "### Conversão do modelo para TFLite\n",
        "\n",
        "Para converter modelos para o TF Lite utiliza-se o `tf.lite.TFLiteConverter`, podendo fazer a conversão de modelos do Keras, modelos no formato SavedModel e funções concretas. Há também uma [api por linha de comando](https://www.tensorflow.org/lite/convert?hl=pt-br#command_line_tool_) onde é possível converter modelos salvos no formato SavedModel ou H5."
      ]
    },
    {
      "cell_type": "markdown",
      "metadata": {
        "id": "CfMWcB1zbWJX"
      },
      "source": [
        "#### Convertendo modelo do keras:"
      ]
    },
    {
      "cell_type": "code",
      "metadata": {
        "id": "-YBRFngjbWJX",
        "outputId": "d1ad27c1-dd2b-4660-8b80-1009a20d8637",
        "colab": {
          "base_uri": "https://localhost:8080/"
        }
      },
      "source": [
        "converter = tf.lite.TFLiteConverter.from_keras_model(model)\n",
        "tflite_model = converter.convert()\n",
        "with open('mobilenetv2_cats_and_dogs_keras.tflite', 'wb') as f:\n",
        "    f.write(tflite_model)"
      ],
      "execution_count": 14,
      "outputs": [
        {
          "output_type": "stream",
          "name": "stderr",
          "text": [
            "/usr/local/lib/python3.7/dist-packages/keras/utils/generic_utils.py:497: CustomMaskWarning: Custom mask layers require a config and must override get_config. When loading, the custom mask layer must be passed to the custom_objects argument.\n",
            "  category=CustomMaskWarning)\n"
          ]
        }
      ]
    },
    {
      "cell_type": "markdown",
      "metadata": {
        "id": "ggxwfdVlbWJX"
      },
      "source": [
        "#### Convertendo modelo no formato SavedModel:"
      ]
    },
    {
      "cell_type": "code",
      "metadata": {
        "id": "qU7FmtVCbWJY",
        "outputId": "db44539d-1c5b-4059-9362-ac7734f71f12",
        "colab": {
          "base_uri": "https://localhost:8080/"
        }
      },
      "source": [
        "model.save('saved_model/mobilenetv2')"
      ],
      "execution_count": 15,
      "outputs": [
        {
          "output_type": "stream",
          "name": "stderr",
          "text": [
            "/usr/local/lib/python3.7/dist-packages/keras/utils/generic_utils.py:497: CustomMaskWarning: Custom mask layers require a config and must override get_config. When loading, the custom mask layer must be passed to the custom_objects argument.\n",
            "  category=CustomMaskWarning)\n"
          ]
        }
      ]
    },
    {
      "cell_type": "code",
      "metadata": {
        "id": "ldFBgqV3bWJY",
        "outputId": "5da26879-0768-4d3a-ee3f-7eb25fa8d98c",
        "colab": {
          "base_uri": "https://localhost:8080/"
        }
      },
      "source": [
        "!ls saved_model/mobilenetv2"
      ],
      "execution_count": 16,
      "outputs": [
        {
          "output_type": "stream",
          "name": "stdout",
          "text": [
            "assets\tkeras_metadata.pb  saved_model.pb  variables\n"
          ]
        }
      ]
    },
    {
      "cell_type": "code",
      "metadata": {
        "id": "r80Z8tkebWJZ"
      },
      "source": [
        "converter = tf.lite.TFLiteConverter.from_saved_model('saved_model/mobilenetv2')\n",
        "tflite_savedmodel = converter.convert()\n",
        "with open('mobilenetv2_cats_and_dogs_savedmodel.tflite', 'wb') as f:\n",
        "    f.write(tflite_savedmodel)"
      ],
      "execution_count": 17,
      "outputs": []
    },
    {
      "cell_type": "markdown",
      "metadata": {
        "id": "_aQ3wvGPbWJa"
      },
      "source": [
        "### Inferência com o modelo TFLite\n",
        "\n",
        "Para fazer inferência é necessário utilizar o Interpretador do TFLite utilizando o `tf.lite.Interpreter` do TensorFlow ou o `tflite_runtime.interpreter.Interpreter` para o pacote do TFLite na Raspberry Pi."
      ]
    },
    {
      "cell_type": "code",
      "metadata": {
        "id": "onFop2D7bWJa"
      },
      "source": [
        "interpreter = tf.lite.Interpreter('mobilenetv2_cats_and_dogs_keras.tflite')\n",
        "interpreter.allocate_tensors()"
      ],
      "execution_count": 18,
      "outputs": []
    },
    {
      "cell_type": "markdown",
      "metadata": {
        "id": "5yixAX1IbWJb"
      },
      "source": [
        "#### Inspecionando entradas e saídas"
      ]
    },
    {
      "cell_type": "code",
      "metadata": {
        "id": "lrq0GsJ-bWJb",
        "outputId": "3870df26-7047-441e-9fc1-925853d028b5",
        "colab": {
          "base_uri": "https://localhost:8080/"
        }
      },
      "source": [
        "interpreter.get_input_details()"
      ],
      "execution_count": 19,
      "outputs": [
        {
          "output_type": "execute_result",
          "data": {
            "text/plain": [
              "[{'dtype': numpy.float32,\n",
              "  'index': 0,\n",
              "  'name': 'input_1',\n",
              "  'quantization': (0.0, 0),\n",
              "  'quantization_parameters': {'quantized_dimension': 0,\n",
              "   'scales': array([], dtype=float32),\n",
              "   'zero_points': array([], dtype=int32)},\n",
              "  'shape': array([  1, 224, 224,   3], dtype=int32),\n",
              "  'shape_signature': array([ -1, 224, 224,   3], dtype=int32),\n",
              "  'sparsity_parameters': {}}]"
            ]
          },
          "metadata": {},
          "execution_count": 19
        }
      ]
    },
    {
      "cell_type": "code",
      "metadata": {
        "id": "zCILZX7JbWJc",
        "outputId": "b932a7e1-8197-4a6f-9b68-736a3188ce23",
        "colab": {
          "base_uri": "https://localhost:8080/"
        }
      },
      "source": [
        "interpreter.get_output_details()"
      ],
      "execution_count": 20,
      "outputs": [
        {
          "output_type": "execute_result",
          "data": {
            "text/plain": [
              "[{'dtype': numpy.float32,\n",
              "  'index': 177,\n",
              "  'name': 'Identity',\n",
              "  'quantization': (0.0, 0),\n",
              "  'quantization_parameters': {'quantized_dimension': 0,\n",
              "   'scales': array([], dtype=float32),\n",
              "   'zero_points': array([], dtype=int32)},\n",
              "  'shape': array([1, 2], dtype=int32),\n",
              "  'shape_signature': array([-1,  2], dtype=int32),\n",
              "  'sparsity_parameters': {}}]"
            ]
          },
          "metadata": {},
          "execution_count": 20
        }
      ]
    },
    {
      "cell_type": "markdown",
      "metadata": {
        "id": "cSN_-01IbWJc"
      },
      "source": [
        "#### Realizando a inferência"
      ]
    },
    {
      "cell_type": "code",
      "metadata": {
        "id": "lO-iWOqhbWJd"
      },
      "source": [
        "input_details = interpreter.get_input_details()\n",
        "interpreter.set_tensor(input_details[0]['index'], image)\n",
        "interpreter.invoke()"
      ],
      "execution_count": 21,
      "outputs": []
    },
    {
      "cell_type": "code",
      "metadata": {
        "id": "DQz6degxbWJd",
        "outputId": "d6da0dd6-eeb7-4443-864a-75456ac25ba5",
        "colab": {
          "base_uri": "https://localhost:8080/"
        }
      },
      "source": [
        "output_details = interpreter.get_output_details()\n",
        "interpreter.get_tensor(output_details[0]['index'])"
      ],
      "execution_count": 22,
      "outputs": [
        {
          "output_type": "execute_result",
          "data": {
            "text/plain": [
              "array([[9.9968350e-01, 3.1648547e-04]], dtype=float32)"
            ]
          },
          "metadata": {},
          "execution_count": 22
        }
      ]
    },
    {
      "cell_type": "code",
      "metadata": {
        "id": "aEh3r4bObWJe",
        "outputId": "6c392b49-41e7-49ab-fd45-fdabe33a19cc",
        "colab": {
          "base_uri": "https://localhost:8080/"
        }
      },
      "source": [
        "model.predict(image)"
      ],
      "execution_count": 23,
      "outputs": [
        {
          "output_type": "execute_result",
          "data": {
            "text/plain": [
              "array([[9.996835e-01, 3.164876e-04]], dtype=float32)"
            ]
          },
          "metadata": {},
          "execution_count": 23
        }
      ]
    },
    {
      "cell_type": "code",
      "metadata": {
        "id": "Pjt_LTIabWJe"
      },
      "source": [
        "def load_model(model_path):\n",
        "    interpreter = tf.lite.Interpreter(model_path)\n",
        "    interpreter.allocate_tensors()\n",
        "    \n",
        "    return interpreter"
      ],
      "execution_count": 24,
      "outputs": []
    },
    {
      "cell_type": "code",
      "metadata": {
        "id": "OO3x8TgAbWJf"
      },
      "source": [
        "def classify_image(interpreter, image):\n",
        "    input_details = interpreter.get_input_details()\n",
        "    output_details = interpreter.get_output_details()\n",
        "    \n",
        "    interpreter.set_tensor(input_details[0]['index'], image)\n",
        "    interpreter.invoke()\n",
        "    predictions = interpreter.get_tensor(output_details[0]['index'])\n",
        "    \n",
        "    return predictions[0]"
      ],
      "execution_count": 25,
      "outputs": []
    },
    {
      "cell_type": "code",
      "metadata": {
        "id": "2kedBtMZbWJf",
        "outputId": "768cc350-c22d-4f7a-b55b-f11f416a085c",
        "colab": {
          "base_uri": "https://localhost:8080/"
        }
      },
      "source": [
        "tflite_savedModel = load_model('mobilenetv2_cats_and_dogs_savedmodel.tflite')\n",
        "classify_image(tflite_savedModel, image)"
      ],
      "execution_count": 26,
      "outputs": [
        {
          "output_type": "execute_result",
          "data": {
            "text/plain": [
              "array([9.9968350e-01, 3.1648547e-04], dtype=float32)"
            ]
          },
          "metadata": {},
          "execution_count": 26
        }
      ]
    },
    {
      "cell_type": "markdown",
      "metadata": {
        "id": "cFrYKYCDbWJf"
      },
      "source": [
        "#### Verificando a acurácia"
      ]
    },
    {
      "cell_type": "code",
      "metadata": {
        "id": "1caGQkW8bWJf"
      },
      "source": [
        "def evaluate_tflite_model(interpreter, dataset):\n",
        "    labels = []\n",
        "    predictions = []\n",
        "    for image, label in dataset:\n",
        "        labels.append(np.argmax(label[0]))\n",
        "        pred = classify_image(interpreter, image)\n",
        "        predictions.append(np.argmax(pred))\n",
        "        \n",
        "        if len(labels) % 50 == 0:\n",
        "            print('.', end='')\n",
        "    \n",
        "    print('\\nAccuracy: %.2f%%' % (100*accuracy_score(labels, predictions)))"
      ],
      "execution_count": 27,
      "outputs": []
    },
    {
      "cell_type": "code",
      "metadata": {
        "id": "W3lrVx1obWJg",
        "outputId": "6d46ad06-3362-456b-802f-91ca6aa69a2b",
        "colab": {
          "base_uri": "https://localhost:8080/"
        }
      },
      "source": [
        "evaluate_tflite_model(tflite_savedModel, dataset)"
      ],
      "execution_count": 28,
      "outputs": [
        {
          "output_type": "stream",
          "name": "stdout",
          "text": [
            "....................\n",
            "Accuracy: 98.60%\n"
          ]
        }
      ]
    },
    {
      "cell_type": "markdown",
      "metadata": {
        "id": "0iid1mL1bWJg"
      },
      "source": [
        "### Instalação do interpretador do TFLite na Raspberry Pi\n",
        "\n",
        "Para fazer inferência na Raspberry Pi não é necessário instalar o Tensorflow (apesar de ser possível), basta instalar o interpretador do TF Lite (<2MB). O TensorFlow disponibiliza vários [pacotes pré-compilados](https://www.tensorflow.org/lite/guide/python) que podem ser instalados utilizando o `pip`. Para SOs baseados no Debian (incluindo o Raspberry Pi OS), deve-se utilizar o pacote disponibilizado para a distribuição:\n",
        "\n",
        "<code>$ echo \"deb https://packages.cloud.google.com/apt coral-edgetpu-stable main\" | sudo tee /etc/apt/sources.list.d/coral-edgetpu.list</code>\n",
        "\n",
        "<code>$ curl https://packages.cloud.google.com/apt/doc/apt-key.gpg | sudo apt-key add -</code>\n",
        "\n",
        "<code>$ sudo apt-get update</code>\n",
        "\n",
        "<code>$ sudo apt-get install python3-tflite-runtime</code>\n",
        "\n",
        "Há também a possibilidade de compilar o interpretador, veja o [link](https://www.tensorflow.org/lite/guide/build_rpi)."
      ]
    },
    {
      "cell_type": "markdown",
      "metadata": {
        "id": "a5nPwknGbWJg"
      },
      "source": [
        "### Pré-processamento para Raspberry Pi\n",
        "\n",
        "Ao instalar apenas o interpretador do TF Lite, nenhuma das demais funções do TensorFlow estarão disponíveis na Raspberry Pi. Assim, o pré-processamento que estava sendo feito utilizando as funções nativas do TF precisarão ser migradas. Isso pode ser feito tanto adicionando as etapas de pré-processamento ao modelo antes da conversão ou utilizando outras bibliotecas disponíveis no Python como NumPy, PIL e OpenCV.\n",
        "\n",
        "As versões mais recentes do Keras possuem camadas de pré-processamento prontas para serem acopladas aos modelos, tornando mais prático o deployment, sem a necessidade de utilizar outros pacotes para pré-processar a entrada. No entanto, pré-processamentos mais espécificos necessitam ser implementados manualmente e muitas vezes é necessário fazer a conversão do modelo com [funções concretas](https://www.tensorflow.org/lite/convert?hl=pt-br#convert_concrete_functions_). Ainda assim, existem funções do TF que ainda não podem ser convertidas para o TFLite como a função de decodificação de arquivo jpeg. Por isso, para esse tutorial serão utilizadas as bibliotecas PIL e NumPy para fazer o pré-processamento da imagem.\n",
        "\n",
        "Vale ressaltar que as funções de bibliotecas diferentes podem conter implementações diferentes e, portanto, podem haver pequenas variações no resultado do modelo devido o pré-processamento."
      ]
    },
    {
      "cell_type": "code",
      "metadata": {
        "id": "SWT6wnUjbWJi"
      },
      "source": [
        "from PIL import Image"
      ],
      "execution_count": 29,
      "outputs": []
    },
    {
      "cell_type": "code",
      "metadata": {
        "id": "cceZJsn9bWJi"
      },
      "source": [
        "def load_and_preprocess_image(image_path):\n",
        "    image = Image.open(image_path).convert('RGB')\n",
        "    image = image.resize((INPUT_SIZE, INPUT_SIZE), Image.ANTIALIAS)\n",
        "    image = np.asarray(image, dtype=np.float32)\n",
        "    image = image/255\n",
        "    image = np.expand_dims(image, axis=0)\n",
        "    \n",
        "    return image"
      ],
      "execution_count": 30,
      "outputs": []
    },
    {
      "cell_type": "code",
      "metadata": {
        "id": "rtLodmh9bWJj",
        "outputId": "bf09f0fd-2408-4020-8bde-f2718519f12a",
        "colab": {
          "base_uri": "https://localhost:8080/",
          "height": 35
        }
      },
      "source": [
        "train_path"
      ],
      "execution_count": 31,
      "outputs": [
        {
          "output_type": "execute_result",
          "data": {
            "application/vnd.google.colaboratory.intrinsic+json": {
              "type": "string"
            },
            "text/plain": [
              "'/root/.keras/datasets/cats_and_dogs_filtered/train'"
            ]
          },
          "metadata": {},
          "execution_count": 31
        }
      ]
    },
    {
      "cell_type": "code",
      "metadata": {
        "id": "222hvplsbWJj"
      },
      "source": [
        "image_path = \"{}/cats/cat.403.jpg\".format(train_path)"
      ],
      "execution_count": 32,
      "outputs": []
    },
    {
      "cell_type": "code",
      "metadata": {
        "id": "Dn_gPAr2bWJj",
        "outputId": "7d243b80-18a6-48e8-b71d-7f64701e41e6",
        "colab": {
          "base_uri": "https://localhost:8080/",
          "height": 286
        }
      },
      "source": [
        "pil_image = load_and_preprocess_image(image_path)\n",
        "plt.imshow(pil_image[0])"
      ],
      "execution_count": 33,
      "outputs": [
        {
          "output_type": "execute_result",
          "data": {
            "text/plain": [
              "<matplotlib.image.AxesImage at 0x7fac75dcb390>"
            ]
          },
          "metadata": {},
          "execution_count": 33
        },
        {
          "output_type": "display_data",
          "data": {
            "image/png": "[encoded data removed]",
            "text/plain": [
              "<Figure size 432x288 with 1 Axes>"
            ]
          },
          "metadata": {
            "needs_background": "light"
          }
        }
      ]
    },
    {
      "cell_type": "code",
      "metadata": {
        "id": "fBGnZpGubWJk",
        "outputId": "4449fcbe-7cf3-4bc0-982a-9faa6bb7f652",
        "colab": {
          "base_uri": "https://localhost:8080/"
        }
      },
      "source": [
        "classify_image(tflite_savedModel, pil_image)"
      ],
      "execution_count": 34,
      "outputs": [
        {
          "output_type": "execute_result",
          "data": {
            "text/plain": [
              "array([9.9993336e-01, 6.6612454e-05], dtype=float32)"
            ]
          },
          "metadata": {},
          "execution_count": 34
        }
      ]
    },
    {
      "cell_type": "code",
      "metadata": {
        "id": "RBGNeU3cbWJl"
      },
      "source": [
        "def evaluate_tflite_model_with_pil(interpreter, image_list, classes):\n",
        "    labels = []\n",
        "    predictions = []\n",
        "    for image_path in image_list:\n",
        "        label = classes.index(image_path.split('/')[-2])\n",
        "        image = load_and_preprocess_image(image_path)\n",
        "        \n",
        "        labels.append(label)\n",
        "        pred = classify_image(interpreter, image)\n",
        "        predictions.append(np.argmax(pred))\n",
        "        \n",
        "        if len(labels) % 50 == 0:\n",
        "            print('.', end='')\n",
        "    \n",
        "    print('\\nAccuracy: %.2f%%' % (100*accuracy_score(labels, predictions)))"
      ],
      "execution_count": 35,
      "outputs": []
    },
    {
      "cell_type": "code",
      "metadata": {
        "id": "gJyMmh5NbWJl"
      },
      "source": [
        "image_list = glob.glob('{}/*/*'.format(validation_path))"
      ],
      "execution_count": 36,
      "outputs": []
    },
    {
      "cell_type": "code",
      "metadata": {
        "id": "81HA7pStbWJl",
        "outputId": "79692d97-e7ef-40ce-9645-ed71b44ec494",
        "colab": {
          "base_uri": "https://localhost:8080/"
        }
      },
      "source": [
        "evaluate_tflite_model_with_pil(tflite_savedModel, image_list, classes)"
      ],
      "execution_count": 37,
      "outputs": [
        {
          "output_type": "stream",
          "name": "stdout",
          "text": [
            "....................\n",
            "Accuracy: 98.90%\n"
          ]
        }
      ]
    },
    {
      "cell_type": "markdown",
      "metadata": {
        "id": "PpWJhOSPbWJm"
      },
      "source": [
        "#### Código para inferência na Raspberry Pi\n",
        "\n",
        "O código completo para inferência na Raspberry Pi está disponível no [respositório](https://github.com/alcunha/embedding-tflite-models-on-raspberrypi/blob/master/mobilenet_predict.py). Foram feitas pequenas modificações no código para leitura dos argumentos, apresentação dos resultados e estimativa de tempo de inferência.\n",
        "\n",
        "#### Ferramenta para benchmarking do TensorFlow Lite\n",
        "\n",
        "O TensorFlow Lite possui algumas ferramentas para medição de desempenho. Para mais informações e download dos binários pa pode ser feito no [link](https://www.tensorflow.org/lite/performance/measurement)."
      ]
    },
    {
      "cell_type": "markdown",
      "metadata": {
        "id": "UuG_UwPtbWJm"
      },
      "source": [
        "### Quantização pós-treinamento\n",
        "\n",
        "Existem diversas técnicas para otimizar modelos como quantização, destilação e poda. A quantização funciona reduzindo a precisão dos números para reduzir tamanho do modelo e a latência da predição, podendo ser aplicada tanto no modelo já treinado quanto durante o treinamento, o que geralmente traz melhores resultados.\n",
        "\n",
        "O TensorFlow Lite oferece uma série de [opções de otimização](https://www.tensorflow.org/lite/performance/model_optimization), sendo a quantização pós-treinamento uma das mais simples de ser aplicada, otimizando um modelo ao custo de alguma acurácia. Além disso, dependendo do tipo de hardware a ser utilizado, é necessário fazer a quantização de maneiras específicas (somente INT8, FLOAT16, etc.), para isso é importante consultar o manual do fabricante e o material disponível na documentação do Tensorflow Lite."
      ]
    },
    {
      "cell_type": "markdown",
      "metadata": {
        "id": "tEGOZp_xbWJn"
      },
      "source": [
        "#### Quantização de faixa dinâmica\n",
        "\n",
        "Para esse tipo de quantização habilita-se a opção `optimizations` do conversor no modo padrão com `tf.lite.Optimize.DEFAULT`. Nessa opção os parâmetros fixos do modelo como os pesos da rede, por exemplo, são quantizados.\n",
        "\n",
        "Nessa operação, entradas e saídas da rede continuam sendo do tipo float32 para manter compatibilidade com o modelo original."
      ]
    },
    {
      "cell_type": "code",
      "metadata": {
        "id": "gw93l_jxbWJn",
        "outputId": "ba02e0ae-3d0c-4540-b0e9-c0e64d93ff04",
        "colab": {
          "base_uri": "https://localhost:8080/"
        }
      },
      "source": [
        "converter = tf.lite.TFLiteConverter.from_keras_model(model)\n",
        "converter.optimizations = [tf.lite.Optimize.DEFAULT]\n",
        "tflite_model = converter.convert()\n",
        "with open('mobilenetv2_cats_and_dogs_quant.tflite', 'wb') as f:\n",
        "    f.write(tflite_model)"
      ],
      "execution_count": 38,
      "outputs": [
        {
          "output_type": "stream",
          "name": "stderr",
          "text": [
            "/usr/local/lib/python3.7/dist-packages/keras/utils/generic_utils.py:497: CustomMaskWarning: Custom mask layers require a config and must override get_config. When loading, the custom mask layer must be passed to the custom_objects argument.\n",
            "  category=CustomMaskWarning)\n"
          ]
        }
      ]
    },
    {
      "cell_type": "code",
      "metadata": {
        "id": "vUvOvWYKbWJn",
        "outputId": "a31311f3-0d79-4bf2-85e5-d72dd214d78e",
        "colab": {
          "base_uri": "https://localhost:8080/"
        }
      },
      "source": [
        "model_quant = load_model('mobilenetv2_cats_and_dogs_quant.tflite')\n",
        "image_list = glob.glob('{}/*/*'.format(validation_path))\n",
        "evaluate_tflite_model_with_pil(model_quant, image_list, classes)"
      ],
      "execution_count": 39,
      "outputs": [
        {
          "output_type": "stream",
          "name": "stdout",
          "text": [
            "....................\n",
            "Accuracy: 98.90%\n"
          ]
        }
      ]
    },
    {
      "cell_type": "markdown",
      "metadata": {
        "id": "NCyty0ojbWJo"
      },
      "source": [
        "#### Quantização de fallback fluante\n",
        "\n",
        "Com essa opção as variáveis intermediárias também são quantizadas, mas é necessário fornecer um conjunto de amostras representativa para que o otimizador estime a faixa de operação típica dessas variáveis. O recomendado é que esse conjunto tenha entre 100 e 500 amostras que podem ser do treino ou da validação e não precisam ser rotuladas. Além de ativar a otimização no modo padrão, o conjunto de dados representativo é configurado utilizando a opção `representative_dataset` do conversor."
      ]
    },
    {
      "cell_type": "code",
      "metadata": {
        "id": "vlA3mJtmbWJo"
      },
      "source": [
        "def representative_dataset():\n",
        "    for image, label in dataset.take(100):\n",
        "        yield [image]"
      ],
      "execution_count": 40,
      "outputs": []
    },
    {
      "cell_type": "code",
      "metadata": {
        "id": "GJaLcreLbWJo",
        "outputId": "6ae175fe-68ea-4295-e437-41ef6095662a",
        "colab": {
          "base_uri": "https://localhost:8080/"
        }
      },
      "source": [
        "converter = tf.lite.TFLiteConverter.from_keras_model(model)\n",
        "converter.optimizations = [tf.lite.Optimize.DEFAULT]\n",
        "converter.representative_dataset = representative_dataset\n",
        "tflite_model = converter.convert()\n",
        "with open('mobilenetv2_cats_and_dogs_quant_fallback.tflite', 'wb') as f:\n",
        "    f.write(tflite_model)"
      ],
      "execution_count": 41,
      "outputs": [
        {
          "output_type": "stream",
          "name": "stderr",
          "text": [
            "/usr/local/lib/python3.7/dist-packages/keras/utils/generic_utils.py:497: CustomMaskWarning: Custom mask layers require a config and must override get_config. When loading, the custom mask layer must be passed to the custom_objects argument.\n",
            "  category=CustomMaskWarning)\n"
          ]
        }
      ]
    },
    {
      "cell_type": "code",
      "metadata": {
        "id": "SyEOvBZDbWJp",
        "outputId": "b3efb938-820b-423e-dbe9-8992be088412",
        "colab": {
          "base_uri": "https://localhost:8080/"
        }
      },
      "source": [
        "model_quant_fallback = load_model('mobilenetv2_cats_and_dogs_quant_fallback.tflite')\n",
        "image_list = glob.glob('{}/*/*'.format(validation_path))\n",
        "evaluate_tflite_model_with_pil(model_quant_fallback, image_list, classes)"
      ],
      "execution_count": 42,
      "outputs": [
        {
          "output_type": "stream",
          "name": "stdout",
          "text": [
            "....................\n",
            "Accuracy: 98.30%\n"
          ]
        }
      ]
    },
    {
      "cell_type": "markdown",
      "metadata": {
        "id": "hNUNymErbWJq"
      },
      "source": [
        "### Referências"
      ]
    },
    {
      "cell_type": "markdown",
      "metadata": {
        "id": "jAj0-_ohbWJq"
      },
      "source": [
        "[1] Elson, Jeremy, et al. \"Asirra: a CAPTCHA that exploits interest-aligned manual image categorization.\" ACM Conference on Computer and Communications Security. Vol. 7. 2007."
      ]
    }
  ]
}